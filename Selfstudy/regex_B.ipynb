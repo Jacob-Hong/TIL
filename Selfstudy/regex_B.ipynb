{
 "cells": [
  {
   "cell_type": "markdown",
   "metadata": {},
   "source": [
    "##### 정규표현식 - regex\n",
    "- regular  \n",
    "- 특정 패턴으로 문자열을 처리할 때 사용되는 문법입니다. \n",
    "- 정규 표현식 함수 \n",
    "    - match  : 문자열을 가장 앞에서 부터 일치하는 패턴을 찾는 함수 \n",
    "    - search : 문자열에서 가장 첫번째로 일치하는 패턴을 찾는 함수 \n",
    "    - findall : 패턴과 일치하는 문자열을 모두 찾는 함수 \n",
    "    - split : 문자열을 특정 패턴으로 나누는 함수 \n",
    "    - sub : 문자열을 특정 패턴에 맞게 대체하는 함수 \n",
    "- 패턴 - pattern "
   ]
  },
  {
   "cell_type": "code",
   "execution_count": 1,
   "metadata": {},
   "outputs": [],
   "source": [
    "import re "
   ]
  },
  {
   "cell_type": "code",
   "execution_count": 2,
   "metadata": {},
   "outputs": [
    {
     "data": {
      "text/plain": [
       "'fast campus datascience fighting. datascience fighting. 1234 fast campus fighting.'"
      ]
     },
     "execution_count": 2,
     "metadata": {},
     "output_type": "execute_result"
    }
   ],
   "source": [
    "s = \"fast campus datascience fighting. datascience fighting. 1234 fast campus fighting.\"\n",
    "s"
   ]
  },
  {
   "cell_type": "markdown",
   "metadata": {},
   "source": [
    "##### 1.match "
   ]
  },
  {
   "cell_type": "code",
   "execution_count": 4,
   "metadata": {},
   "outputs": [
    {
     "data": {
      "text/plain": [
       "<_sre.SRE_Match object; span=(0, 3), match='fas'>"
      ]
     },
     "execution_count": 4,
     "metadata": {},
     "output_type": "execute_result"
    }
   ],
   "source": [
    "re.match(pattern=\"fas\" , string=s)"
   ]
  },
  {
   "cell_type": "markdown",
   "metadata": {},
   "source": [
    "##### 2. search"
   ]
  },
  {
   "cell_type": "code",
   "execution_count": 6,
   "metadata": {},
   "outputs": [
    {
     "data": {
      "text/plain": [
       "<_sre.SRE_Match object; span=(5, 11), match='campus'>"
      ]
     },
     "execution_count": 6,
     "metadata": {},
     "output_type": "execute_result"
    }
   ],
   "source": [
    "re.search(\"campus\", s)"
   ]
  },
  {
   "cell_type": "markdown",
   "metadata": {},
   "source": [
    "##### findall"
   ]
  },
  {
   "cell_type": "code",
   "execution_count": 8,
   "metadata": {},
   "outputs": [
    {
     "data": {
      "text/plain": [
       "['fast', 'fast']"
      ]
     },
     "execution_count": 8,
     "metadata": {},
     "output_type": "execute_result"
    }
   ],
   "source": [
    "#일치하는 모든 패턴을 찾아서 리스트로 리턴해 줍니다.\n",
    "re.findall(\"fast\", s)"
   ]
  },
  {
   "cell_type": "markdown",
   "metadata": {},
   "source": [
    "##### 4. split"
   ]
  },
  {
   "cell_type": "code",
   "execution_count": 9,
   "metadata": {},
   "outputs": [
    {
     "data": {
      "text/plain": [
       "'fast campus datascience fighting. datascience fighting. 1234 fast campus fighting.'"
      ]
     },
     "execution_count": 9,
     "metadata": {},
     "output_type": "execute_result"
    }
   ],
   "source": [
    "s"
   ]
  },
  {
   "cell_type": "code",
   "execution_count": 10,
   "metadata": {},
   "outputs": [
    {
     "data": {
      "text/plain": [
       "['fast ',\n",
       " ' datascience fighting. datascience fighting. 1234 fast ',\n",
       " ' fighting.']"
      ]
     },
     "execution_count": 10,
     "metadata": {},
     "output_type": "execute_result"
    }
   ],
   "source": [
    "#문자열을 특정 패턴으로 나누는 함수 입니다. \n",
    "re.split('campus', s)"
   ]
  },
  {
   "cell_type": "markdown",
   "metadata": {},
   "source": [
    "##### 5. sub"
   ]
  },
  {
   "cell_type": "code",
   "execution_count": 11,
   "metadata": {},
   "outputs": [
    {
     "data": {
      "text/plain": [
       "'slow campus datascience fighting. datascience fighting. 1234 slow campus fighting.'"
      ]
     },
     "execution_count": 11,
     "metadata": {},
     "output_type": "execute_result"
    }
   ],
   "source": [
    "#일치하는 패턴을 찾아서 바꾸고자 하는 패턴으로 문자열을 변경해 줍니다.\n",
    "re.sub(\"fast\", \"slow\", s)"
   ]
  },
  {
   "cell_type": "code",
   "execution_count": 12,
   "metadata": {
    "scrolled": true
   },
   "outputs": [
    {
     "data": {
      "text/plain": [
       "'slow campus datascience fighting. datascience fighting. 1234 slow campus fighting.'"
      ]
     },
     "execution_count": 12,
     "metadata": {},
     "output_type": "execute_result"
    }
   ],
   "source": [
    "re.sub(pattern=\"fast\", repl=\"slow\", string=s)"
   ]
  },
  {
   "cell_type": "code",
   "execution_count": 13,
   "metadata": {},
   "outputs": [
    {
     "data": {
      "text/plain": [
       "'fast course datascience fighting. datascience fighting. 1234 fast course fighting.'"
      ]
     },
     "execution_count": 13,
     "metadata": {},
     "output_type": "execute_result"
    }
   ],
   "source": [
    "re.sub(\"campus\", \"course\", s)"
   ]
  },
  {
   "cell_type": "markdown",
   "metadata": {},
   "source": [
    "##### 6. 패턴 - pattern\n",
    "- 문자 : 숫자, 문자등을 구분해주는 패턴 \n",
    "- 지정자 : 숫자 몇개, 특정 숫자나 문자의 범위등을 제한해주는 패턴"
   ]
  },
  {
   "cell_type": "code",
   "execution_count": null,
   "metadata": {},
   "outputs": [],
   "source": [
    "#문자 패턴\n",
    "# \\d (숫자) , \\D(비숫자)\n",
    "# \\w (숫자, 문자, _) , \\W (숫자, 문자, _ 를 제외한 패턴)\n",
    "# \\s(공백문자) , \\S (비공백 문자)"
   ]
  },
  {
   "cell_type": "code",
   "execution_count": 59,
   "metadata": {},
   "outputs": [
    {
     "data": {
      "text/plain": [
       "('0123456789abcdefghijklmnopqrstuvwxyzABCDEFGHIJKLMNOPQRSTUVWXYZ!\"#$%&\\'()*+,-./:;<=>?@[\\\\]^_`{|}~ \\t\\n\\r\\x0b\\x0c',\n",
       " 100)"
      ]
     },
     "execution_count": 59,
     "metadata": {},
     "output_type": "execute_result"
    }
   ],
   "source": [
    "import string\n",
    "pt = string.printable\n",
    "pt, len(pt)"
   ]
  },
  {
   "cell_type": "code",
   "execution_count": 17,
   "metadata": {},
   "outputs": [
    {
     "data": {
      "text/plain": [
       "['0', '1', '2', '3', '4', '5', '6', '7', '8', '9']"
      ]
     },
     "execution_count": 17,
     "metadata": {},
     "output_type": "execute_result"
    }
   ],
   "source": [
    "re.findall(\"\\d\", pt)"
   ]
  },
  {
   "cell_type": "code",
   "execution_count": 20,
   "metadata": {},
   "outputs": [
    {
     "data": {
      "text/plain": [
       "'abcdefghijklmnopqrstuvwxyzABCDEFGHIJKLMNOPQRSTUVWXYZ!\"#$%&\\'()*+,-./:;<=>?@[\\\\]^_`{|}~ \\t\\n\\r\\x0b\\x0c'"
      ]
     },
     "execution_count": 20,
     "metadata": {},
     "output_type": "execute_result"
    }
   ],
   "source": [
    "result = re.findall(\"\\D\", pt)\n",
    "''.join(result)"
   ]
  },
  {
   "cell_type": "code",
   "execution_count": 21,
   "metadata": {},
   "outputs": [
    {
     "data": {
      "text/plain": [
       "'0123456789abcdefghijklmnopqrstuvwxyzABCDEFGHIJKLMNOPQRSTUVWXYZ_'"
      ]
     },
     "execution_count": 21,
     "metadata": {},
     "output_type": "execute_result"
    }
   ],
   "source": [
    "# \"\\w\" 숫자,문자, 언더바_ \n",
    "result = re.findall(\"\\w\", pt)\n",
    "''.join(result)"
   ]
  },
  {
   "cell_type": "code",
   "execution_count": 23,
   "metadata": {},
   "outputs": [
    {
     "data": {
      "text/plain": [
       "'!\"#$%&\\'()*+,-./:;<=>?@[\\\\]^`{|}~ \\t\\n\\r\\x0b\\x0c'"
      ]
     },
     "execution_count": 23,
     "metadata": {},
     "output_type": "execute_result"
    }
   ],
   "source": [
    "# '\\W' 숫자 문자 언더바를 제외한 패턴 \n",
    "result = re.findall(\"\\W\", pt)\n",
    "''.join(result)"
   ]
  },
  {
   "cell_type": "code",
   "execution_count": 43,
   "metadata": {},
   "outputs": [
    {
     "data": {
      "text/plain": [
       "'0123456789abcdefghijklmnopqrstuvwxyzABCDEFGHIJKLMNOPQRSTUVWXYZ!\"#$%&\\'()*+,-./:;<=>?@[\\\\]^_`{|}~ \\t\\n\\r\\x0b\\x0c'"
      ]
     },
     "execution_count": 43,
     "metadata": {},
     "output_type": "execute_result"
    }
   ],
   "source": [
    "pt"
   ]
  },
  {
   "cell_type": "code",
   "execution_count": 25,
   "metadata": {},
   "outputs": [
    {
     "data": {
      "text/plain": [
       "' \\t\\n\\r\\x0b\\x0c'"
      ]
     },
     "execution_count": 25,
     "metadata": {},
     "output_type": "execute_result"
    }
   ],
   "source": [
    "#\"\\s\" space 공백문자 \n",
    "result = re.findall(\"\\s\", pt)\n",
    "''.join(result)"
   ]
  },
  {
   "cell_type": "code",
   "execution_count": 44,
   "metadata": {},
   "outputs": [
    {
     "data": {
      "text/plain": [
       "'0123456789abcdefghijklmnopqrstuvwxyzABCDEFGHIJKLMNOPQRSTUVWXYZ!\"#$%&\\'()*+,-./:;<=>?@[\\\\]^_`{|}~'"
      ]
     },
     "execution_count": 44,
     "metadata": {},
     "output_type": "execute_result"
    }
   ],
   "source": [
    "result = re.findall(\"\\S\", pt)\n",
    "''.join(result)"
   ]
  },
  {
   "cell_type": "code",
   "execution_count": 29,
   "metadata": {},
   "outputs": [],
   "source": [
    "s = 'fastcampus datascience fighting. datascience fighting. 1234 fast campus fighting.'"
   ]
  },
  {
   "cell_type": "code",
   "execution_count": 45,
   "metadata": {},
   "outputs": [
    {
     "data": {
      "text/plain": [
       "'fastcampus datascience fighting. datascience fighting. 1234 fast campus fighting.'"
      ]
     },
     "execution_count": 45,
     "metadata": {},
     "output_type": "execute_result"
    }
   ],
   "source": [
    "s"
   ]
  },
  {
   "cell_type": "code",
   "execution_count": 48,
   "metadata": {},
   "outputs": [
    {
     "data": {
      "text/plain": [
       "'        '"
      ]
     },
     "execution_count": 48,
     "metadata": {},
     "output_type": "execute_result"
    }
   ],
   "source": [
    "a = re.findall(\"\\s\", s)\n",
    "''.join(a)"
   ]
  },
  {
   "cell_type": "code",
   "execution_count": 32,
   "metadata": {},
   "outputs": [
    {
     "data": {
      "text/plain": [
       "'fastcampusdatasciencefighting.datasciencefighting.1234fastcampusfighting.'"
      ]
     },
     "execution_count": 32,
     "metadata": {},
     "output_type": "execute_result"
    }
   ],
   "source": [
    "result = re.findall(\"\\S\", s)\n",
    "''.join(result)"
   ]
  },
  {
   "cell_type": "code",
   "execution_count": 38,
   "metadata": {},
   "outputs": [],
   "source": [
    "b = '012345 6789 abcd efghijklmnopqrstuvwxyzABCDEFGHIJKLMNOPQRSTUVWXYZ_'"
   ]
  },
  {
   "cell_type": "code",
   "execution_count": 39,
   "metadata": {
    "scrolled": true
   },
   "outputs": [
    {
     "data": {
      "text/plain": [
       "'   '"
      ]
     },
     "execution_count": 39,
     "metadata": {},
     "output_type": "execute_result"
    }
   ],
   "source": [
    "result = re.findall(\"\\s\", b)\n",
    "''.join(result)"
   ]
  },
  {
   "cell_type": "markdown",
   "metadata": {},
   "source": [
    "\\s\n",
    "\n",
    "matches a single whitespace character -- space, newline, return, tab\n",
    "\n",
    "\n",
    "\\S\n",
    "\n",
    "matches any non-whitespace charact"
   ]
  },
  {
   "cell_type": "code",
   "execution_count": null,
   "metadata": {},
   "outputs": [],
   "source": []
  },
  {
   "cell_type": "markdown",
   "metadata": {},
   "source": [
    "##### 지정자 패턴\n",
    "- `[]` : 문자를 나타내고 묶어주는 역할을 함 \n",
    "- `-` : 범위를 나타내는 역할 \n",
    "- `.` : 하나의 문자\n",
    "- `?` : 0 or 1 repeat\n",
    "- `*` : all, 0회 이상반복\n",
    "- `+` : 1회 이상 반복 \n",
    "- `{m}` : m회 반복\n",
    "- `{m,n}` : m~n회 반복 \n",
    "- `()` : Grouping 의 역할 "
   ]
  },
  {
   "cell_type": "code",
   "execution_count": 60,
   "metadata": {},
   "outputs": [
    {
     "data": {
      "text/plain": [
       "'0123456789abcdefghijklmnopqrstuvwxyzABCDEFGHIJKLMNOPQRSTUVWXYZ!\"#$%&\\'()*+,-./:;<=>?@[\\\\]^_`{|}~ \\t\\n\\r\\x0b\\x0c'"
      ]
     },
     "execution_count": 60,
     "metadata": {},
     "output_type": "execute_result"
    }
   ],
   "source": [
    "pt"
   ]
  },
  {
   "cell_type": "code",
   "execution_count": 61,
   "metadata": {},
   "outputs": [
    {
     "data": {
      "text/plain": [
       "'0123456789'"
      ]
     },
     "execution_count": 61,
     "metadata": {},
     "output_type": "execute_result"
    }
   ],
   "source": [
    "#범위 \n",
    "result = re.findall(\"[0-9]\" , pt)\n",
    "''.join(result)"
   ]
  },
  {
   "cell_type": "code",
   "execution_count": 64,
   "metadata": {},
   "outputs": [
    {
     "data": {
      "text/plain": [
       "'abcdefghijklmnopqrstuvwxyz'"
      ]
     },
     "execution_count": 64,
     "metadata": {},
     "output_type": "execute_result"
    }
   ],
   "source": [
    "result = re.findall(\"[a-z]\", pt)\n",
    "''.join(result)"
   ]
  },
  {
   "cell_type": "code",
   "execution_count": 67,
   "metadata": {},
   "outputs": [
    {
     "data": {
      "text/plain": [
       "'abcdefghijklmnopqrstuvwxyzABCDEFGHIJKLMNOPQRSTUVWXYZ'"
      ]
     },
     "execution_count": 67,
     "metadata": {},
     "output_type": "execute_result"
    }
   ],
   "source": [
    "result = re.findall(\"[a-zA-Z]\", pt)\n",
    "''.join(result)"
   ]
  },
  {
   "cell_type": "code",
   "execution_count": 69,
   "metadata": {},
   "outputs": [
    {
     "data": {
      "text/plain": [
       "'0123456789abcdefghijklmnopqrstuvwxyzABCDEFGHIJKLMNOPQRSTUVWXYZ_'"
      ]
     },
     "execution_count": 69,
     "metadata": {},
     "output_type": "execute_result"
    }
   ],
   "source": [
    "result = re.findall(\"\\w\", pt)\n",
    "''.join(result)"
   ]
  },
  {
   "cell_type": "code",
   "execution_count": null,
   "metadata": {},
   "outputs": [],
   "source": []
  },
  {
   "cell_type": "code",
   "execution_count": 76,
   "metadata": {},
   "outputs": [
    {
     "name": "stdout",
     "output_type": "stream",
     "text": [
      "1212aabzxcvx ['aab']\n",
      "a0b ['a0b']\n",
      "abc []\n"
     ]
    }
   ],
   "source": [
    "# '.' : 문자 하나 \n",
    "ls = [\"1212aabzxcvx\",\"a0b\",\"abc\"] \n",
    "\n",
    "for s in ls : \n",
    "    result = re.findall(\"a.b\" , s)\n",
    "    print(s, result)\n",
    "\n"
   ]
  },
  {
   "cell_type": "code",
   "execution_count": 83,
   "metadata": {},
   "outputs": [
    {
     "name": "stdout",
     "output_type": "stream",
     "text": [
      "aab ['aab']\n",
      "a3b ['a3b']\n",
      "abc ['ab']\n",
      "accb []\n"
     ]
    }
   ],
   "source": [
    "# ? 0회 or 1 회 반복\n",
    "ls = [\"aab\",\"a3b\",\"abc\",\"accb\"]\n",
    "\n",
    "for s in ls :\n",
    "    result = re.findall(\"a.?b\" , s)\n",
    "    print(s, result)\n"
   ]
  },
  {
   "cell_type": "code",
   "execution_count": 85,
   "metadata": {
    "scrolled": true
   },
   "outputs": [
    {
     "name": "stdout",
     "output_type": "stream",
     "text": [
      "aab ['aab']\n",
      "a3b ['a3b']\n",
      "abc ['ab']\n",
      "accb ['accb']\n"
     ]
    }
   ],
   "source": [
    "# * : 0회 이상 반복 \n",
    "ls = [\"aab\",\"a3b\",\"abc\",\"accb\"]\n",
    "for s in ls :\n",
    "    result = re.findall(\"a.*b\", s)\n",
    "    print(s, result)"
   ]
  },
  {
   "cell_type": "code",
   "execution_count": 86,
   "metadata": {},
   "outputs": [
    {
     "name": "stdout",
     "output_type": "stream",
     "text": [
      "aab ['aab']\n",
      "a3b ['a3b']\n",
      "abc []\n",
      "accb ['accb']\n"
     ]
    }
   ],
   "source": [
    "# +\n",
    "ls = [\"aab\",\"a3b\",\"abc\",\"accb\"]\n",
    "for s in ls :\n",
    "    result = re.findall(\"a.+b\", s)\n",
    "    print(s, result)"
   ]
  },
  {
   "cell_type": "code",
   "execution_count": 88,
   "metadata": {},
   "outputs": [
    {
     "name": "stdout",
     "output_type": "stream",
     "text": [
      "ab []\n",
      "acb []\n",
      "acccb []\n",
      "acccccb ['acccccb']\n"
     ]
    }
   ],
   "source": [
    "#{m} : m회 반복\n",
    "#{m,n} : m~n회 반복\n",
    "ls = [\"ab\",\"acb\",\"acccb\",\"acccccb\"]\n",
    "for s in ls : \n",
    "      result = re.findall(\"ac{5}b\", s)\n",
    "      print(s, result)\n",
    "      "
   ]
  },
  {
   "cell_type": "code",
   "execution_count": 90,
   "metadata": {},
   "outputs": [
    {
     "name": "stdout",
     "output_type": "stream",
     "text": [
      "ab []\n",
      "acb ['acb']\n",
      "acccb ['acccb']\n",
      "acccccb []\n"
     ]
    }
   ],
   "source": [
    "ls = [\"ab\",\"acb\",\"acccb\",\"acccccb\"]\n",
    "for s in ls : \n",
    "      result = re.findall(\"ac{1,3}b\", s)\n",
    "      print(s, result)"
   ]
  },
  {
   "cell_type": "code",
   "execution_count": null,
   "metadata": {},
   "outputs": [],
   "source": []
  },
  {
   "cell_type": "markdown",
   "metadata": {},
   "source": [
    "##### Example "
   ]
  },
  {
   "cell_type": "code",
   "execution_count": 92,
   "metadata": {},
   "outputs": [
    {
     "data": {
      "text/plain": [
       "'저의 이메일주소는 pdj1224@gmail.com 이고 다른 이메일 주소는 123datascience@daum.net 입니다.'"
      ]
     },
     "execution_count": 92,
     "metadata": {},
     "output_type": "execute_result"
    }
   ],
   "source": [
    "# 이메일 주소 찾기 \n",
    "s = \"저의 이메일주소는 pdj1224@gmail.com 이고 다른 이메일 주소는 123datascience@daum.net 입니다.\"\n",
    "s"
   ]
  },
  {
   "cell_type": "code",
   "execution_count": 93,
   "metadata": {},
   "outputs": [],
   "source": [
    "p = \"\\w+@\\w+\\.\\w+\""
   ]
  },
  {
   "cell_type": "code",
   "execution_count": 97,
   "metadata": {},
   "outputs": [],
   "source": [
    "p1 = \"[0-9a-zA-Z_]+@[0-9a-zA-Z]+\\.+[0-9a-zA-Z]+\""
   ]
  },
  {
   "cell_type": "code",
   "execution_count": 94,
   "metadata": {},
   "outputs": [
    {
     "data": {
      "text/plain": [
       "['pdj1224@gmail.com', '123datascience@daum.net']"
      ]
     },
     "execution_count": 94,
     "metadata": {},
     "output_type": "execute_result"
    }
   ],
   "source": [
    "re.findall(p,s)"
   ]
  },
  {
   "cell_type": "code",
   "execution_count": 98,
   "metadata": {},
   "outputs": [
    {
     "data": {
      "text/plain": [
       "['pdj1224@gmail.com', '123datascience@daum.net']"
      ]
     },
     "execution_count": 98,
     "metadata": {},
     "output_type": "execute_result"
    }
   ],
   "source": [
    "re.findall(p1,s)"
   ]
  },
  {
   "cell_type": "code",
   "execution_count": null,
   "metadata": {},
   "outputs": [],
   "source": []
  },
  {
   "cell_type": "code",
   "execution_count": 99,
   "metadata": {},
   "outputs": [
    {
     "data": {
      "text/plain": [
       "['761113-1087231']"
      ]
     },
     "execution_count": 99,
     "metadata": {},
     "output_type": "execute_result"
    }
   ],
   "source": [
    "# 주민등록 번호를 group 나눠서 ( 761113-1087231 -> 761113-******* )\n",
    "s = \"저의 주민등록 번호는 761113-1087231 가 아닙니다.\"\n",
    "p = \"[0-9]+-+[0-9]+\"\n",
    "re.findall(p,s)"
   ]
  },
  {
   "cell_type": "code",
   "execution_count": 104,
   "metadata": {},
   "outputs": [
    {
     "data": {
      "text/plain": [
       "[('761113', '1087231')]"
      ]
     },
     "execution_count": 104,
     "metadata": {},
     "output_type": "execute_result"
    }
   ],
   "source": [
    "#나누어 주기  # grouping 활용\n",
    "p1 = '([0-9]{6})-([0-9]{7})'\n",
    "re.findall(p1,s)"
   ]
  },
  {
   "cell_type": "code",
   "execution_count": 106,
   "metadata": {},
   "outputs": [
    {
     "data": {
      "text/plain": [
       "'저의 주민등록 번호는 761113-******* 가 아닙니다.'"
      ]
     },
     "execution_count": 106,
     "metadata": {},
     "output_type": "execute_result"
    }
   ],
   "source": [
    "# \\g<> 역슬래쉬 그루핑 <번호>\n",
    "re.sub(p1, \"\\g<1>-*******\", s)"
   ]
  },
  {
   "cell_type": "code",
   "execution_count": 107,
   "metadata": {},
   "outputs": [
    {
     "data": {
      "text/plain": [
       "['영일공-48삼사구구일사', '01012삼사-구구팔3']"
      ]
     },
     "execution_count": 107,
     "metadata": {},
     "output_type": "execute_result"
    }
   ],
   "source": [
    "# 전화번호 추출\n",
    "s = \"안녕하세요 저는 ps4를 소지하고 있는 사람입니다. 원하시면 영일공-48삼사구구일사로 연락 주시거나\\\n",
    "01012삼사-구구팔3번으로 연락주세요.\"\n",
    "p = \"[0-9영공일이둘삼사오육칠팔구빵]{3}[-]?[0-9영공일이둘삼사오육칠팔구빵]{3,4}[-]?[0-9영공일이둘삼사오육칠팔구빵]{4}\"\n",
    "numbers = re.findall(p, s)\n",
    "numbers"
   ]
  },
  {
   "cell_type": "code",
   "execution_count": 112,
   "metadata": {},
   "outputs": [
    {
     "name": "stdout",
     "output_type": "stream",
     "text": [
      "영일공-48삼사구구일사\n",
      "공 0\n",
      "영 0\n",
      "일 1\n",
      "둘 2\n",
      "이 2\n",
      "삼 3\n",
      "사 4\n",
      "오 5\n",
      "육 6\n",
      "칠 7\n",
      "팔 8\n",
      "구 9\n",
      "- \n",
      "01012삼사-구구팔3\n",
      "공 0\n",
      "영 0\n",
      "일 1\n",
      "둘 2\n",
      "이 2\n",
      "삼 3\n",
      "사 4\n",
      "오 5\n",
      "육 6\n",
      "칠 7\n",
      "팔 8\n",
      "구 9\n",
      "- \n",
      "['01048349914', '01012349983']\n"
     ]
    }
   ],
   "source": [
    "dic = {\n",
    "    \"공\": 0, \"영\": 0, \"일\": 1, \"둘\": 2, \"이\": 2, \"삼\": 3, \"사\": 4,\n",
    "    \"오\": 5, \"육\": 6, \"칠\": 7, \"팔\": 8, \"구\": 9, \"-\":\"\",\n",
    "}\n",
    "\n",
    "result = []\n",
    "\n",
    "for number in numbers:\n",
    "    print(number)\n",
    "    for indx, value in dic.items():\n",
    "        print(indx, value)\n",
    "        number = number.replace(indx, str(value))\n",
    "    result.append(number)\n",
    "print(result)"
   ]
  },
  {
   "cell_type": "code",
   "execution_count": 113,
   "metadata": {},
   "outputs": [
    {
     "name": "stdout",
     "output_type": "stream",
     "text": [
      "/Users/hongjaeyeong/Documents/dev/TIL/Selfstudy\r\n"
     ]
    }
   ],
   "source": [
    "!pwd\n"
   ]
  }
 ],
 "metadata": {
  "kernelspec": {
   "display_name": "Python 3",
   "language": "python",
   "name": "python3"
  },
  "language_info": {
   "codemirror_mode": {
    "name": "ipython",
    "version": 3
   },
   "file_extension": ".py",
   "mimetype": "text/x-python",
   "name": "python",
   "nbconvert_exporter": "python",
   "pygments_lexer": "ipython3",
   "version": "3.6.5"
  }
 },
 "nbformat": 4,
 "nbformat_minor": 2
}
