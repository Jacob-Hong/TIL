{
 "cells": [
  {
   "cell_type": "markdown",
   "metadata": {},
   "source": [
    "- 표본공간 : 20명 용의자 \n",
    "- 남자 : 12명 \n",
    "- 여자 : 8명 \n",
    "\n",
    "- 머리 긴 사람 10명 \n",
    "- 머리 짧은 사람 10명 \n",
    "\n"
   ]
  },
  {
   "cell_type": "markdown",
   "metadata": {},
   "source": [
    "#### 결합확률 joint probability \n",
    "- A.intersection(B)\n",
    "- A & B "
   ]
  },
  {
   "cell_type": "code",
   "execution_count": 1,
   "metadata": {},
   "outputs": [],
   "source": [
    "from pgmpy.factors.discrete import JointProbabilityDistribution as JPD"
   ]
  },
  {
   "cell_type": "markdown",
   "metadata": {},
   "source": [
    "- X=0 인 경우가 사건  A  (남자인 사건)\n",
    "- X=1 인 경우가 사건  A^C  (여자인 사건)\n",
    "- Y=0 인 경우가 사건  B  (머리가 긴 사건)\n",
    "- Y=1 인 경우가 사건  B^C  (머리가 짧은 사건)"
   ]
  },
  {
   "cell_type": "code",
   "execution_count": 6,
   "metadata": {
    "scrolled": false
   },
   "outputs": [
    {
     "name": "stdout",
     "output_type": "stream",
     "text": [
      "╒═════╤═════╤══════════╕\n",
      "│ X   │ Y   │   P(X,Y) │\n",
      "╞═════╪═════╪══════════╡\n",
      "│ X_0 │ Y_0 │   0.1500 │\n",
      "├─────┼─────┼──────────┤\n",
      "│ X_0 │ Y_1 │   0.4500 │\n",
      "├─────┼─────┼──────────┤\n",
      "│ X_1 │ Y_0 │   0.3500 │\n",
      "├─────┼─────┼──────────┤\n",
      "│ X_1 │ Y_1 │   0.0500 │\n",
      "╘═════╧═════╧══════════╛\n"
     ]
    }
   ],
   "source": [
    "j1 = JPD(['X', 'Y'], [2, 2], np.array([3, 9, 7, 1]) / 20)\n",
    "print(j1)"
   ]
  },
  {
   "cell_type": "code",
   "execution_count": 9,
   "metadata": {},
   "outputs": [
    {
     "name": "stdout",
     "output_type": "stream",
     "text": [
      "╒═════╤════════╕\n",
      "│ X   │   P(X) │\n",
      "╞═════╪════════╡\n",
      "│ X_0 │ 0.6000 │\n",
      "├─────┼────────┤\n",
      "│ X_1 │ 0.4000 │\n",
      "╘═════╧════════╛\n"
     ]
    }
   ],
   "source": [
    "m1x = j1.marginal_distribution(['X'], inplace=False)\n",
    "print(m1x)"
   ]
  },
  {
   "cell_type": "code",
   "execution_count": 10,
   "metadata": {},
   "outputs": [
    {
     "name": "stdout",
     "output_type": "stream",
     "text": [
      "╒═════╤════════╕\n",
      "│ Y   │   P(Y) │\n",
      "╞═════╪════════╡\n",
      "│ Y_0 │ 0.5000 │\n",
      "├─────┼────────┤\n",
      "│ Y_1 │ 0.5000 │\n",
      "╘═════╧════════╛\n"
     ]
    }
   ],
   "source": [
    "m1y = j1.marginal_distribution(['Y'], inplace=False)\n",
    "print(m1y)"
   ]
  },
  {
   "cell_type": "code",
   "execution_count": 11,
   "metadata": {},
   "outputs": [
    {
     "name": "stdout",
     "output_type": "stream",
     "text": [
      "╒═════╤════════╕\n",
      "│ Y   │   P(Y) │\n",
      "╞═════╪════════╡\n",
      "│ Y_0 │ 0.2500 │\n",
      "├─────┼────────┤\n",
      "│ Y_1 │ 0.7500 │\n",
      "╘═════╧════════╛\n"
     ]
    }
   ],
   "source": [
    "c1x0 = j1.conditional_distribution([('X', 0)], inplace=False)  # 사건 A에 대한 조건부 확률\n",
    "print(c1x0)"
   ]
  },
  {
   "cell_type": "code",
   "execution_count": 12,
   "metadata": {},
   "outputs": [
    {
     "name": "stdout",
     "output_type": "stream",
     "text": [
      "╒═════╤════════╕\n",
      "│ Y   │   P(Y) │\n",
      "╞═════╪════════╡\n",
      "│ Y_0 │ 0.8750 │\n",
      "├─────┼────────┤\n",
      "│ Y_1 │ 0.1250 │\n",
      "╘═════╧════════╛\n"
     ]
    }
   ],
   "source": [
    "c1x1 = j1.conditional_distribution([('X', 1)], inplace=False)  \n",
    "print(c1x1)"
   ]
  },
  {
   "cell_type": "code",
   "execution_count": null,
   "metadata": {},
   "outputs": [],
   "source": []
  },
  {
   "cell_type": "code",
   "execution_count": null,
   "metadata": {},
   "outputs": [],
   "source": []
  },
  {
   "cell_type": "code",
   "execution_count": 7,
   "metadata": {},
   "outputs": [
    {
     "data": {
      "text/plain": [
       "False"
      ]
     },
     "execution_count": 7,
     "metadata": {},
     "output_type": "execute_result"
    }
   ],
   "source": [
    "j1.check_independence(['X'], ['Y'])"
   ]
  },
  {
   "cell_type": "code",
   "execution_count": 5,
   "metadata": {
    "scrolled": true
   },
   "outputs": [
    {
     "name": "stdout",
     "output_type": "stream",
     "text": [
      "╒═════╤═════╤══════════╕\n",
      "│ X   │ Y   │   P(X,Y) │\n",
      "╞═════╪═════╪══════════╡\n",
      "│ X_0 │ Y_0 │   0.3000 │\n",
      "├─────┼─────┼──────────┤\n",
      "│ X_0 │ Y_1 │   0.3000 │\n",
      "├─────┼─────┼──────────┤\n",
      "│ X_1 │ Y_0 │   0.2000 │\n",
      "├─────┼─────┼──────────┤\n",
      "│ X_1 │ Y_1 │   0.2000 │\n",
      "╘═════╧═════╧══════════╛\n"
     ]
    }
   ],
   "source": [
    "j2 = JPD(['X', 'Y'], [2,2], np.array([6, 6, 4, 4])/20 )\n",
    "print(j2)"
   ]
  },
  {
   "cell_type": "code",
   "execution_count": 8,
   "metadata": {},
   "outputs": [
    {
     "data": {
      "text/plain": [
       "True"
      ]
     },
     "execution_count": 8,
     "metadata": {},
     "output_type": "execute_result"
    }
   ],
   "source": [
    "j2.check_independence(['X'], ['Y'])"
   ]
  },
  {
   "cell_type": "markdown",
   "metadata": {},
   "source": [
    "#### 검사 시약 문제 \n",
    "- 환자가 실제로 병에 걸린 경우 / 사건 D \n",
    "- 병에 걸려있지 않은 경우는 / 사건 D c \n",
    "- 시약테스트 양성 / 사건 S \n",
    "- 시약 테스트 음성 / 사건 S c "
   ]
  },
  {
   "cell_type": "code",
   "execution_count": 13,
   "metadata": {},
   "outputs": [],
   "source": [
    "from pgmpy.factors.discrete import TabularCPD"
   ]
  },
  {
   "cell_type": "code",
   "execution_count": 18,
   "metadata": {},
   "outputs": [
    {
     "name": "stdout",
     "output_type": "stream",
     "text": [
      "╒═════╤═══════╕\n",
      "│ X_0 │ 0.998 │\n",
      "├─────┼───────┤\n",
      "│ X_1 │ 0.002 │\n",
      "╘═════╧═══════╛\n"
     ]
    }
   ],
   "source": [
    "#P(D) = x1  : 병에 걸렸을 확률 \n",
    "#P(D^c) x0 : 병에 걸리지 않았을 확률 \n",
    "cpd_X = TabularCPD('X',2, [[1-0.002 , 0.002]])\n",
    "print(cpd_X)"
   ]
  },
  {
   "cell_type": "code",
   "execution_count": 21,
   "metadata": {},
   "outputs": [
    {
     "name": "stdout",
     "output_type": "stream",
     "text": [
      "╒═════╤══════╤══════╕\n",
      "│ X   │ X_0  │ X_1  │\n",
      "├─────┼──────┼──────┤\n",
      "│ Y_0 │ 0.95 │ 0.01 │\n",
      "├─────┼──────┼──────┤\n",
      "│ Y_1 │ 0.05 │ 0.99 │\n",
      "╘═════╧══════╧══════╛\n"
     ]
    }
   ],
   "source": [
    "#P(S) = Y1\n",
    "#P(S^c) = Y0\n",
    "cpd_YX = TabularCPD('Y', 2, np.array([[0.95,0.01],[0.05,0.99 ]]) , evidence=['X'], evidence_card=[2] )\n",
    "print(cpd_YX)"
   ]
  },
  {
   "cell_type": "code",
   "execution_count": null,
   "metadata": {},
   "outputs": [],
   "source": []
  },
  {
   "cell_type": "code",
   "execution_count": 32,
   "metadata": {},
   "outputs": [
    {
     "name": "stdout",
     "output_type": "stream",
     "text": [
      "╒═════╤══════════╕\n",
      "│ Y_0 │ 0.666667 │\n",
      "├─────┼──────────┤\n",
      "│ Y_1 │ 0.333333 │\n",
      "╘═════╧══════════╛\n"
     ]
    }
   ],
   "source": [
    "# Y = 0 는 Red 농장 \n",
    "# Y = 1 은 Blue 농장 \n",
    "\n",
    "cpd_Y = TabularCPD('Y', 2 , [[8/12, 4/12]])\n",
    "print(cpd_Y)"
   ]
  },
  {
   "cell_type": "code",
   "execution_count": 33,
   "metadata": {
    "scrolled": true
   },
   "outputs": [
    {
     "name": "stdout",
     "output_type": "stream",
     "text": [
      "╒═════╤══════╤══════╕\n",
      "│ Y   │ Y_0  │ Y_1  │\n",
      "├─────┼──────┼──────┤\n",
      "│ X_0 │ 0.75 │ 0.25 │\n",
      "├─────┼──────┼──────┤\n",
      "│ X_1 │ 0.25 │ 0.75 │\n",
      "╘═════╧══════╧══════╛\n"
     ]
    }
   ],
   "source": [
    "# X = 0 orange \n",
    "# X = 1 apple \n",
    "cpd_XY = TabularCPD('X',2, np.array([[6/8,1/4],[2/8,3/4]]), evidence=['Y'], evidence_card=[2])\n",
    "print(cpd_XY)"
   ]
  },
  {
   "cell_type": "code",
   "execution_count": 34,
   "metadata": {},
   "outputs": [
    {
     "data": {
      "text/plain": [
       "True"
      ]
     },
     "execution_count": 34,
     "metadata": {},
     "output_type": "execute_result"
    }
   ],
   "source": [
    "from pgmpy.models import BayesianModel\n",
    "\n",
    "model = BayesianModel([('Y', 'X')])\n",
    "model.add_cpds(cpd_Y, cpd_XY)\n",
    "model.check_model()"
   ]
  },
  {
   "cell_type": "code",
   "execution_count": 35,
   "metadata": {
    "scrolled": true
   },
   "outputs": [
    {
     "name": "stdout",
     "output_type": "stream",
     "text": [
      "╒═════╤══════════╕\n",
      "│ Y   │   phi(Y) │\n",
      "╞═════╪══════════╡\n",
      "│ Y_0 │   0.8571 │\n",
      "├─────┼──────────┤\n",
      "│ Y_1 │   0.1429 │\n",
      "╘═════╧══════════╛\n"
     ]
    }
   ],
   "source": [
    "from pgmpy.inference import VariableElimination\n",
    "\n",
    "infer = VariableElimination(model)\n",
    "posterior = infer.query(['Y'], evidence={'X': 0})\n",
    "print(posterior['Y'])"
   ]
  },
  {
   "cell_type": "code",
   "execution_count": null,
   "metadata": {},
   "outputs": [],
   "source": []
  },
  {
   "cell_type": "markdown",
   "metadata": {},
   "source": [
    "- 확률 모형 ( sampling , realization )\n",
    "- 확률 변수 (random variable) \n",
    "    - X(w) = x \n",
    "    - 함수이다. \n",
    "- 확률 분포 (Distribution) \n",
    "     - 이산 확률 분포 \n",
    "     - 연속 확률 분포 \n",
    "          - Cumulative Distribution Function as CDF \n",
    "          - CDF 의 도함수 = PDF (Probability Density Function)"
   ]
  }
 ],
 "metadata": {
  "kernelspec": {
   "display_name": "Python 3",
   "language": "python",
   "name": "python3"
  },
  "language_info": {
   "codemirror_mode": {
    "name": "ipython",
    "version": 3
   },
   "file_extension": ".py",
   "mimetype": "text/x-python",
   "name": "python",
   "nbconvert_exporter": "python",
   "pygments_lexer": "ipython3",
   "version": "3.6.5"
  }
 },
 "nbformat": 4,
 "nbformat_minor": 2
}
