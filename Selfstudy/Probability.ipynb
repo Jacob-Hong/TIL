{
 "cells": [
  {
   "cell_type": "markdown",
   "metadata": {},
   "source": [
    "- 표본공간 : 20명 용의자 \n",
    "- 남자 : 12명 \n",
    "- 여자 : 8명 \n",
    "\n",
    "- 머리 긴 사람 10명 \n",
    "- 머리 짧은 사람 10명 \n",
    "\n"
   ]
  },
  {
   "cell_type": "markdown",
   "metadata": {},
   "source": [
    "#### 결합확률 joint probability \n",
    "- A.intersection(B)\n",
    "- A & B "
   ]
  },
  {
   "cell_type": "code",
   "execution_count": 1,
   "metadata": {},
   "outputs": [],
   "source": [
    "from pgmpy.factors.discrete import JointProbabilityDistribution as JPD"
   ]
  },
  {
   "cell_type": "markdown",
   "metadata": {},
   "source": [
    "- X=0 인 경우가 사건  A  (남자인 사건)\n",
    "- X=1 인 경우가 사건  A^C  (여자인 사건)\n",
    "- Y=0 인 경우가 사건  B  (머리가 긴 사건)\n",
    "- Y=1 인 경우가 사건  B^C  (머리가 짧은 사건)"
   ]
  },
  {
   "cell_type": "code",
   "execution_count": 6,
   "metadata": {
    "scrolled": true
   },
   "outputs": [
    {
     "name": "stdout",
     "output_type": "stream",
     "text": [
      "╒═════╤═════╤══════════╕\n",
      "│ X   │ Y   │   P(X,Y) │\n",
      "╞═════╪═════╪══════════╡\n",
      "│ X_0 │ Y_0 │   0.1500 │\n",
      "├─────┼─────┼──────────┤\n",
      "│ X_0 │ Y_1 │   0.4500 │\n",
      "├─────┼─────┼──────────┤\n",
      "│ X_1 │ Y_0 │   0.3500 │\n",
      "├─────┼─────┼──────────┤\n",
      "│ X_1 │ Y_1 │   0.0500 │\n",
      "╘═════╧═════╧══════════╛\n"
     ]
    }
   ],
   "source": [
    "j1 = JPD(['X', 'Y'], [2, 2], np.array([3, 9, 7, 1]) / 20)\n",
    "print(j1)"
   ]
  },
  {
   "cell_type": "code",
   "execution_count": 7,
   "metadata": {},
   "outputs": [
    {
     "data": {
      "text/plain": [
       "False"
      ]
     },
     "execution_count": 7,
     "metadata": {},
     "output_type": "execute_result"
    }
   ],
   "source": [
    "j1.check_independence(['X'], ['Y'])"
   ]
  },
  {
   "cell_type": "code",
   "execution_count": 5,
   "metadata": {},
   "outputs": [
    {
     "name": "stdout",
     "output_type": "stream",
     "text": [
      "╒═════╤═════╤══════════╕\n",
      "│ X   │ Y   │   P(X,Y) │\n",
      "╞═════╪═════╪══════════╡\n",
      "│ X_0 │ Y_0 │   0.3000 │\n",
      "├─────┼─────┼──────────┤\n",
      "│ X_0 │ Y_1 │   0.3000 │\n",
      "├─────┼─────┼──────────┤\n",
      "│ X_1 │ Y_0 │   0.2000 │\n",
      "├─────┼─────┼──────────┤\n",
      "│ X_1 │ Y_1 │   0.2000 │\n",
      "╘═════╧═════╧══════════╛\n"
     ]
    }
   ],
   "source": [
    "j2 = JPD(['X', 'Y'], [2,2], np.array([6, 6, 4, 4])/20 )\n",
    "print(j2)"
   ]
  },
  {
   "cell_type": "code",
   "execution_count": 8,
   "metadata": {},
   "outputs": [
    {
     "data": {
      "text/plain": [
       "True"
      ]
     },
     "execution_count": 8,
     "metadata": {},
     "output_type": "execute_result"
    }
   ],
   "source": [
    "j2.check_independence(['X'], ['Y'])"
   ]
  }
 ],
 "metadata": {
  "kernelspec": {
   "display_name": "Python 3",
   "language": "python",
   "name": "python3"
  },
  "language_info": {
   "codemirror_mode": {
    "name": "ipython",
    "version": 3
   },
   "file_extension": ".py",
   "mimetype": "text/x-python",
   "name": "python",
   "nbconvert_exporter": "python",
   "pygments_lexer": "ipython3",
   "version": "3.6.5"
  }
 },
 "nbformat": 4,
 "nbformat_minor": 2
}
